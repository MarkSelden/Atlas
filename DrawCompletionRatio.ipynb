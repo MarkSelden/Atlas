{
 "cells": [
  {
   "cell_type": "code",
   "execution_count": 51,
   "metadata": {},
   "outputs": [
    {
     "data": {
      "image/png": "[encoded data removed]",
      "text/plain": [
       "<Figure size 432x288 with 1 Axes>"
      ]
     },
     "metadata": {
      "needs_background": "light"
     },
     "output_type": "display_data"
    },
    {
     "name": "stderr",
     "output_type": "stream",
     "text": [
      "The PostScript backend does not support transparency; partially transparent artists will be rendered opaque.\n",
      "The PostScript backend does not support transparency; partially transparent artists will be rendered opaque.\n",
      "The PostScript backend does not support transparency; partially transparent artists will be rendered opaque.\n",
      "The PostScript backend does not support transparency; partially transparent artists will be rendered opaque.\n"
     ]
    }
   ],
   "source": [
    "import random\n",
    "import statistics\n",
    "import scipy.stats\n",
    "import numpy as np\n",
    "import matplotlib\n",
    "import matplotlib.pyplot as plt\n",
    "import json\n",
    "import AtlasScenarios\n",
    "%matplotlib inline\n",
    "\n",
    "#=== helper functions\n",
    "    \n",
    "def mean_confidence_interval(data, confidence=0.95):\n",
    "    a = 1.0 * np.array(data)\n",
    "    n = len(a)\n",
    "    m, se = np.mean(a), scipy.stats.sem(a)\n",
    "    h = se * scipy.stats.t.ppf((1 + confidence) / 2., n-1)\n",
    "    return (m, h)\n",
    "\n",
    "#=== gather data\n",
    "\n",
    "with open('AtlasLog_200428022117.json','r') as f:\n",
    "    logs = json.loads(f.read())\n",
    "\n",
    "data     = {}\n",
    "for log in logs:\n",
    "    scenarioName     = log['scenarioName']\n",
    "    numRobots        = log['numRobots']\n",
    "    mappingoutcome   = log['mappingoutcome']\n",
    "    if scenarioName not in data:\n",
    "        data[scenarioName]            = {}\n",
    "    if numRobots not in data[scenarioName]:\n",
    "        data[scenarioName][numRobots] = []\n",
    "    if mappingoutcome=='success':\n",
    "        data[scenarioName][numRobots] += [1]\n",
    "    else:\n",
    "        data[scenarioName][numRobots] += [0]\n",
    "\n",
    "#=== create plot\n",
    "\n",
    "(fig,ax) = plt.subplots()\n",
    "lines    = []\n",
    "for scenario in data.keys():\n",
    "    x    = []\n",
    "    y    = []\n",
    "    yerr = []\n",
    "    for (k,v) in data[scenario].items():\n",
    "        x    += [k]\n",
    "        (m,h) = mean_confidence_interval(v)\n",
    "        y    += [m]\n",
    "        yerr += [h]\n",
    "    lines    += [ax.errorbar(x, y, yerr=yerr,label=scenario[len('SCENARIO_'):])]\n",
    "ax.grid(True, zorder=5)\n",
    "plt.xlabel('number of robots')\n",
    "plt.ylim(0,1.1)\n",
    "plt.ylabel('mapping completion ratio')\n",
    "plt.legend(handles=lines)\n",
    "plt.show()\n",
    "fig.savefig('completion ratio.eps',bbox_inches='tight')"
   ]
  },
  {
   "cell_type": "code",
   "execution_count": null,
   "metadata": {},
   "outputs": [],
   "source": []
  }
 ],
 "metadata": {
  "kernelspec": {
   "display_name": "Python 3",
   "language": "python",
   "name": "python3"
  },
  "language_info": {
   "codemirror_mode": {
    "name": "ipython",
    "version": 3
   },
   "file_extension": ".py",
   "mimetype": "text/x-python",
   "name": "python",
   "nbconvert_exporter": "python",
   "pygments_lexer": "ipython3",
   "version": "3.7.4"
  }
 },
 "nbformat": 4,
 "nbformat_minor": 2
}
